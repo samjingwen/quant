{
 "cells": [
  {
   "cell_type": "code",
   "id": "b475ae19",
   "metadata": {
    "ExecuteTime": {
     "end_time": "2025-07-05T08:23:36.597336Z",
     "start_time": "2025-07-05T08:23:29.702424Z"
    }
   },
   "source": [
    "import numpy as np\n",
    "import pandas as pd"
   ],
   "outputs": [],
   "execution_count": 3
  },
  {
   "cell_type": "code",
   "id": "170f080a",
   "metadata": {
    "ExecuteTime": {
     "end_time": "2025-07-05T08:23:36.609685Z",
     "start_time": "2025-07-05T08:23:36.606312Z"
    }
   },
   "source": [
    "n = 20\n",
    "years = np.arange(1, n + 1)\n",
    "years"
   ],
   "outputs": [
    {
     "data": {
      "text/plain": [
       "array([ 1,  2,  3,  4,  5,  6,  7,  8,  9, 10, 11, 12, 13, 14, 15, 16, 17,\n",
       "       18, 19, 20])"
      ]
     },
     "execution_count": 4,
     "metadata": {},
     "output_type": "execute_result"
    }
   ],
   "execution_count": 4
  },
  {
   "cell_type": "code",
   "id": "96df87bb",
   "metadata": {
    "ExecuteTime": {
     "end_time": "2025-07-05T08:23:36.639683Z",
     "start_time": "2025-07-05T08:23:36.631753Z"
    }
   },
   "source": [
    "P = 10000\n",
    "r = 0.15\n",
    "n = 10\n",
    "A = 1000\n",
    "\n",
    "years = np.arange(1, n + 1)\n",
    "fv_principal = P * (1 + r)**years\n",
    "total_contrib = A * 12 * years\n",
    "monthly_r = (1 + r)**(1/12) - 1\n",
    "fv_annuity = A * (((1 + monthly_r)**(12*years) - 1)/monthly_r)\n",
    "total_value = fv_principal + fv_annuity\n",
    "\n",
    "df = pd.DataFrame({\n",
    "    \"Year\": years,\n",
    "    \"Principal FV\": fv_principal,\n",
    "    \"Total Contributions\": total_contrib,\n",
    "    \"Annuity FV\": fv_annuity,\n",
    "    \"Total Future Value\": total_value\n",
    "}).round(2)\n",
    "\n",
    "df"
   ],
   "outputs": [
    {
     "data": {
      "text/plain": [
       "   Year  Principal FV  Total Contributions  Annuity FV  Total Future Value\n",
       "0     1      11500.00                12000    12804.19            24304.19\n",
       "1     2      13225.00                24000    27529.00            40754.00\n",
       "2     3      15208.75                36000    44462.54            59671.29\n",
       "3     4      17490.06                48000    63936.11            81426.18\n",
       "4     5      20113.57                60000    86330.72           106444.29\n",
       "5     6      23130.61                72000   112084.51           135215.12\n",
       "6     7      26600.20                84000   141701.38           168301.58\n",
       "7     8      30590.23                96000   175760.77           206351.00\n",
       "8     9      35178.76               108000   214929.08           250107.84\n",
       "9    10      40455.58               120000   259972.63           300428.21"
      ],
      "text/html": [
       "<div>\n",
       "<style scoped>\n",
       "    .dataframe tbody tr th:only-of-type {\n",
       "        vertical-align: middle;\n",
       "    }\n",
       "\n",
       "    .dataframe tbody tr th {\n",
       "        vertical-align: top;\n",
       "    }\n",
       "\n",
       "    .dataframe thead th {\n",
       "        text-align: right;\n",
       "    }\n",
       "</style>\n",
       "<table border=\"1\" class=\"dataframe\">\n",
       "  <thead>\n",
       "    <tr style=\"text-align: right;\">\n",
       "      <th></th>\n",
       "      <th>Year</th>\n",
       "      <th>Principal FV</th>\n",
       "      <th>Total Contributions</th>\n",
       "      <th>Annuity FV</th>\n",
       "      <th>Total Future Value</th>\n",
       "    </tr>\n",
       "  </thead>\n",
       "  <tbody>\n",
       "    <tr>\n",
       "      <th>0</th>\n",
       "      <td>1</td>\n",
       "      <td>11500.00</td>\n",
       "      <td>12000</td>\n",
       "      <td>12804.19</td>\n",
       "      <td>24304.19</td>\n",
       "    </tr>\n",
       "    <tr>\n",
       "      <th>1</th>\n",
       "      <td>2</td>\n",
       "      <td>13225.00</td>\n",
       "      <td>24000</td>\n",
       "      <td>27529.00</td>\n",
       "      <td>40754.00</td>\n",
       "    </tr>\n",
       "    <tr>\n",
       "      <th>2</th>\n",
       "      <td>3</td>\n",
       "      <td>15208.75</td>\n",
       "      <td>36000</td>\n",
       "      <td>44462.54</td>\n",
       "      <td>59671.29</td>\n",
       "    </tr>\n",
       "    <tr>\n",
       "      <th>3</th>\n",
       "      <td>4</td>\n",
       "      <td>17490.06</td>\n",
       "      <td>48000</td>\n",
       "      <td>63936.11</td>\n",
       "      <td>81426.18</td>\n",
       "    </tr>\n",
       "    <tr>\n",
       "      <th>4</th>\n",
       "      <td>5</td>\n",
       "      <td>20113.57</td>\n",
       "      <td>60000</td>\n",
       "      <td>86330.72</td>\n",
       "      <td>106444.29</td>\n",
       "    </tr>\n",
       "    <tr>\n",
       "      <th>5</th>\n",
       "      <td>6</td>\n",
       "      <td>23130.61</td>\n",
       "      <td>72000</td>\n",
       "      <td>112084.51</td>\n",
       "      <td>135215.12</td>\n",
       "    </tr>\n",
       "    <tr>\n",
       "      <th>6</th>\n",
       "      <td>7</td>\n",
       "      <td>26600.20</td>\n",
       "      <td>84000</td>\n",
       "      <td>141701.38</td>\n",
       "      <td>168301.58</td>\n",
       "    </tr>\n",
       "    <tr>\n",
       "      <th>7</th>\n",
       "      <td>8</td>\n",
       "      <td>30590.23</td>\n",
       "      <td>96000</td>\n",
       "      <td>175760.77</td>\n",
       "      <td>206351.00</td>\n",
       "    </tr>\n",
       "    <tr>\n",
       "      <th>8</th>\n",
       "      <td>9</td>\n",
       "      <td>35178.76</td>\n",
       "      <td>108000</td>\n",
       "      <td>214929.08</td>\n",
       "      <td>250107.84</td>\n",
       "    </tr>\n",
       "    <tr>\n",
       "      <th>9</th>\n",
       "      <td>10</td>\n",
       "      <td>40455.58</td>\n",
       "      <td>120000</td>\n",
       "      <td>259972.63</td>\n",
       "      <td>300428.21</td>\n",
       "    </tr>\n",
       "  </tbody>\n",
       "</table>\n",
       "</div>"
      ]
     },
     "execution_count": 5,
     "metadata": {},
     "output_type": "execute_result"
    }
   ],
   "execution_count": 5
  },
  {
   "cell_type": "code",
   "execution_count": null,
   "id": "4880b5bf",
   "metadata": {},
   "outputs": [],
   "source": []
  },
  {
   "cell_type": "code",
   "execution_count": null,
   "id": "a0a2ec65",
   "metadata": {},
   "outputs": [],
   "source": []
  },
  {
   "metadata": {
    "ExecuteTime": {
     "end_time": "2025-06-21T06:01:31.644748Z",
     "start_time": "2025-06-21T06:01:31.638484Z"
    }
   },
   "cell_type": "code",
   "source": [
    "# eps ttm\n",
    "rate = 0.15\n",
    "\n",
    "eps = 2.61\n",
    "\n",
    "eps_growth = 22.6\n",
    "\n",
    "pe = eps_growth * 2\n",
    "\n",
    "eps_future = 2.61 * (1 + eps_growth / 100)**10\n",
    "\n",
    "price_future = eps_future * pe\n",
    "\n",
    "current_price = price_future / (1 + rate)**10\n",
    "\n",
    "current_price / 2"
   ],
   "id": "907c4a4b9de0d331",
   "outputs": [
    {
     "data": {
      "text/plain": [
       "111.86011069760684"
      ]
     },
     "execution_count": 1,
     "metadata": {},
     "output_type": "execute_result"
    }
   ],
   "execution_count": 1
  }
 ],
 "metadata": {
  "kernelspec": {
   "display_name": "3.13.1",
   "language": "python",
   "name": "python3"
  },
  "language_info": {
   "codemirror_mode": {
    "name": "ipython",
    "version": 3
   },
   "file_extension": ".py",
   "mimetype": "text/x-python",
   "name": "python",
   "nbconvert_exporter": "python",
   "pygments_lexer": "ipython3",
   "version": "3.13.1"
  }
 },
 "nbformat": 4,
 "nbformat_minor": 5
}
